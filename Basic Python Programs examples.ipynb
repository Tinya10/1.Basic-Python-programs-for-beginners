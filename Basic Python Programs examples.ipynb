{
 "cells": [
  {
   "cell_type": "code",
   "execution_count": 5,
   "metadata": {},
   "outputs": [
    {
     "name": "stdout",
     "output_type": "stream",
     "text": [
      "Sum of two numbers is : 29\n"
     ]
    }
   ],
   "source": [
    "#Program to add 2 numbers\n",
    "\n",
    "num1 = 15\n",
    "num2 = 14\n",
    "\n",
    "sum = num1 + num2\n",
    "\n",
    "print(\"Sum of two numbers is :\", sum)"
   ]
  },
  {
   "cell_type": "code",
   "execution_count": 7,
   "metadata": {},
   "outputs": [
    {
     "name": "stdout",
     "output_type": "stream",
     "text": [
      "Area of circle is: 28.278\n"
     ]
    }
   ],
   "source": [
    "#To calculate area of circle\n",
    "\n",
    "def area(r):\n",
    "    PI = 3.142\n",
    "    return PI * (r*r);\n",
    "\n",
    "print(\"Area of circle is:\",area(3))"
   ]
  },
  {
   "cell_type": "code",
   "execution_count": 19,
   "metadata": {},
   "outputs": [
    {
     "name": "stdout",
     "output_type": "stream",
     "text": [
      "8\n",
      "Square of number is: 204\n"
     ]
    }
   ],
   "source": [
    "#Program to calculate Sum of squares of first n natural numbers\n",
    "\n",
    "def squarenum(n):\n",
    "    \n",
    "    sum = 0\n",
    "    for i in range(1,n+1):\n",
    "        sum = sum + (i*i)\n",
    "        \n",
    "    return sum\n",
    "\n",
    "n = int(input())\n",
    "print(\"Square of number is:\", squarenum(n))\n"
   ]
  },
  {
   "cell_type": "code",
   "execution_count": 42,
   "metadata": {},
   "outputs": [
    {
     "name": "stdout",
     "output_type": "stream",
     "text": [
      "Enter any number: 13\n",
      "13 is a prime number\n"
     ]
    }
   ],
   "source": [
    "#Program to check whether a number is Prime or not\n",
    "\n",
    "number = int(input(\"Enter any number: \"))\n",
    "\n",
    "if number > 1:\n",
    "    for i in range(2, number):\n",
    "        if(number%i)==0:\n",
    "            print(number, \"is not a prime number\")\n",
    "            break\n",
    "    else:\n",
    "        print(number, \"is a prime number\")\n",
    "        \n",
    "else:\n",
    "    print(num,\"is not a prime number\")\n",
    "        \n"
   ]
  },
  {
   "cell_type": "code",
   "execution_count": 47,
   "metadata": {},
   "outputs": [
    {
     "name": "stdout",
     "output_type": "stream",
     "text": [
      "Enter any number5\n",
      "The sum of cubes till entered number : 225\n"
     ]
    }
   ],
   "source": [
    "#Program for cube sum of first n natural numbers\n",
    "\n",
    "number = int(input(\"Enter any number\"))\n",
    "\n",
    "def sumofcubes(n):\n",
    "    sum = 0\n",
    "    for i in range(1, n+1):\n",
    "        sum = sum + (i*i*i)\n",
    "    return sum\n",
    "\n",
    "\n",
    "print(\"The sum of cubes till entered number :\", sumofcubes(number))\n",
    "    \n"
   ]
  },
  {
   "cell_type": "code",
   "execution_count": 52,
   "metadata": {},
   "outputs": [
    {
     "name": "stdout",
     "output_type": "stream",
     "text": [
      "compound interest is : 1329.6000000000001\n"
     ]
    }
   ],
   "source": [
    "#Python Program for compound interest\n",
    "\n",
    "def compound_interest(principle, rate, time):\n",
    "    CI = principle*(1 + (rate/100)*time)\n",
    "    print(\"compound interest is :\",CI)\n",
    "    \n",
    "compound_interest(1200,5.4,2)"
   ]
  },
  {
   "cell_type": "code",
   "execution_count": null,
   "metadata": {},
   "outputs": [],
   "source": []
  }
 ],
 "metadata": {
  "kernelspec": {
   "display_name": "Python 3",
   "language": "python",
   "name": "python3"
  },
  "language_info": {
   "codemirror_mode": {
    "name": "ipython",
    "version": 3
   },
   "file_extension": ".py",
   "mimetype": "text/x-python",
   "name": "python",
   "nbconvert_exporter": "python",
   "pygments_lexer": "ipython3",
   "version": "3.7.3"
  }
 },
 "nbformat": 4,
 "nbformat_minor": 2
}
