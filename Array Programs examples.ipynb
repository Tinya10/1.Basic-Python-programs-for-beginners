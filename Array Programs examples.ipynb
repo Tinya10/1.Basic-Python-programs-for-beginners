{
 "cells": [
  {
   "cell_type": "code",
   "execution_count": 9,
   "metadata": {},
   "outputs": [
    {
     "name": "stdout",
     "output_type": "stream",
     "text": [
      "The sum of array is: 20\n"
     ]
    }
   ],
   "source": [
    "#Python Program to find sum of array\n",
    "array = [2,4,6,8]\n",
    "\n",
    "def sum_array(n):\n",
    "    return(sum(n))\n",
    "\n",
    "print(\"The sum of array is:\",sum_array(array))"
   ]
  },
  {
   "cell_type": "code",
   "execution_count": 10,
   "metadata": {},
   "outputs": [
    {
     "name": "stdout",
     "output_type": "stream",
     "text": [
      "Largest number in array is:  5000\n"
     ]
    }
   ],
   "source": [
    "#Python Program to find largest element in an array\n",
    "\n",
    "array = [2,4,6,8,10,88,199,1000,2000,2400,5000,13,12,14,999]\n",
    "\n",
    "def max_array(n):\n",
    "    maxi = max(n)\n",
    "    return maxi\n",
    "\n",
    "print(\"Largest number in array is: \",max_array(array))"
   ]
  },
  {
   "cell_type": "code",
   "execution_count": null,
   "metadata": {},
   "outputs": [],
   "source": []
  }
 ],
 "metadata": {
  "kernelspec": {
   "display_name": "Python 3",
   "language": "python",
   "name": "python3"
  },
  "language_info": {
   "codemirror_mode": {
    "name": "ipython",
    "version": 3
   },
   "file_extension": ".py",
   "mimetype": "text/x-python",
   "name": "python",
   "nbconvert_exporter": "python",
   "pygments_lexer": "ipython3",
   "version": "3.7.3"
  }
 },
 "nbformat": 4,
 "nbformat_minor": 2
}
